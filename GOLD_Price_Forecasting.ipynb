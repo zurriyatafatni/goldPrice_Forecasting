{
  "nbformat": 4,
  "nbformat_minor": 0,
  "metadata": {
    "colab": {
      "name": "GOLD Price Forecasting",
      "provenance": [],
      "collapsed_sections": [],
      "toc_visible": true,
      "authorship_tag": "ABX9TyMrEwFfsuXlmEMCEFmgVacA",
      "include_colab_link": true
    },
    "kernelspec": {
      "name": "python3",
      "display_name": "Python 3"
    }
  },
  "cells": [
    {
      "cell_type": "markdown",
      "metadata": {
        "id": "view-in-github",
        "colab_type": "text"
      },
      "source": [
        "<a href=\"https://colab.research.google.com/github/zurriyatafatni/goldprice_forecasting/blob/main/GOLD_Price_Forecasting.ipynb\" target=\"_parent\"><img src=\"https://colab.research.google.com/assets/colab-badge.svg\" alt=\"Open In Colab\"/></a>"
      ]
    },
    {
      "cell_type": "code",
      "metadata": {
        "id": "qQxDMym9OGYq"
      },
      "source": [
        "import pandas as pd\n",
        "from matplotlib import pyplot as plt\n",
        "from sklearn import linear_model\n",
        "import numpy as np\n",
        "\n"
      ],
      "execution_count": null,
      "outputs": []
    },
    {
      "cell_type": "code",
      "metadata": {
        "id": "T9WaSPUiOI3V",
        "colab": {
          "base_uri": "https://localhost:8080/",
          "height": 202
        },
        "outputId": "cb1ceab0-6289-4046-93df-56e75940b5e8"
      },
      "source": [
        "\n",
        "#baca data pada file data.csv dalam folder Data menggunakan pandas\n",
        "data = pd.read_csv('gold_price2.csv')\n",
        "data.head(5)\n"
      ],
      "execution_count": null,
      "outputs": [
        {
          "output_type": "execute_result",
          "data": {
            "text/html": [
              "<div>\n",
              "<style scoped>\n",
              "    .dataframe tbody tr th:only-of-type {\n",
              "        vertical-align: middle;\n",
              "    }\n",
              "\n",
              "    .dataframe tbody tr th {\n",
              "        vertical-align: top;\n",
              "    }\n",
              "\n",
              "    .dataframe thead th {\n",
              "        text-align: right;\n",
              "    }\n",
              "</style>\n",
              "<table border=\"1\" class=\"dataframe\">\n",
              "  <thead>\n",
              "    <tr style=\"text-align: right;\">\n",
              "      <th></th>\n",
              "      <th>Date</th>\n",
              "      <th>Open</th>\n",
              "      <th>High</th>\n",
              "      <th>Low</th>\n",
              "      <th>Close</th>\n",
              "      <th>Adj Close</th>\n",
              "      <th>Volume</th>\n",
              "    </tr>\n",
              "  </thead>\n",
              "  <tbody>\n",
              "    <tr>\n",
              "      <th>0</th>\n",
              "      <td>10/22/2001</td>\n",
              "      <td>275.500000</td>\n",
              "      <td>275.500000</td>\n",
              "      <td>275.500000</td>\n",
              "      <td>275.500000</td>\n",
              "      <td>275.500000</td>\n",
              "      <td>4</td>\n",
              "    </tr>\n",
              "    <tr>\n",
              "      <th>1</th>\n",
              "      <td>10/23/2001</td>\n",
              "      <td>277.000000</td>\n",
              "      <td>277.000000</td>\n",
              "      <td>276.100006</td>\n",
              "      <td>276.100006</td>\n",
              "      <td>276.100006</td>\n",
              "      <td>42</td>\n",
              "    </tr>\n",
              "    <tr>\n",
              "      <th>2</th>\n",
              "      <td>10/24/2001</td>\n",
              "      <td>275.899994</td>\n",
              "      <td>275.899994</td>\n",
              "      <td>275.899994</td>\n",
              "      <td>275.899994</td>\n",
              "      <td>275.899994</td>\n",
              "      <td>1</td>\n",
              "    </tr>\n",
              "    <tr>\n",
              "      <th>3</th>\n",
              "      <td>10/25/2001</td>\n",
              "      <td>277.799988</td>\n",
              "      <td>277.799988</td>\n",
              "      <td>277.799988</td>\n",
              "      <td>277.799988</td>\n",
              "      <td>277.799988</td>\n",
              "      <td>1</td>\n",
              "    </tr>\n",
              "    <tr>\n",
              "      <th>4</th>\n",
              "      <td>10/26/2001</td>\n",
              "      <td>277.899994</td>\n",
              "      <td>277.899994</td>\n",
              "      <td>277.899994</td>\n",
              "      <td>277.899994</td>\n",
              "      <td>277.899994</td>\n",
              "      <td>1</td>\n",
              "    </tr>\n",
              "  </tbody>\n",
              "</table>\n",
              "</div>"
            ],
            "text/plain": [
              "         Date        Open        High  ...       Close   Adj Close  Volume\n",
              "0  10/22/2001  275.500000  275.500000  ...  275.500000  275.500000       4\n",
              "1  10/23/2001  277.000000  277.000000  ...  276.100006  276.100006      42\n",
              "2  10/24/2001  275.899994  275.899994  ...  275.899994  275.899994       1\n",
              "3  10/25/2001  277.799988  277.799988  ...  277.799988  277.799988       1\n",
              "4  10/26/2001  277.899994  277.899994  ...  277.899994  277.899994       1\n",
              "\n",
              "[5 rows x 7 columns]"
            ]
          },
          "metadata": {
            "tags": []
          },
          "execution_count": 4
        }
      ]
    },
    {
      "cell_type": "code",
      "metadata": {
        "id": "jX6fBYVdG63C",
        "colab": {
          "base_uri": "https://localhost:8080/",
          "height": 202
        },
        "outputId": "33abd6b4-22aa-4bb2-bcd1-73d4935a7ed1"
      },
      "source": [
        "data.tail(5)"
      ],
      "execution_count": null,
      "outputs": [
        {
          "output_type": "execute_result",
          "data": {
            "text/html": [
              "<div>\n",
              "<style scoped>\n",
              "    .dataframe tbody tr th:only-of-type {\n",
              "        vertical-align: middle;\n",
              "    }\n",
              "\n",
              "    .dataframe tbody tr th {\n",
              "        vertical-align: top;\n",
              "    }\n",
              "\n",
              "    .dataframe thead th {\n",
              "        text-align: right;\n",
              "    }\n",
              "</style>\n",
              "<table border=\"1\" class=\"dataframe\">\n",
              "  <thead>\n",
              "    <tr style=\"text-align: right;\">\n",
              "      <th></th>\n",
              "      <th>Date</th>\n",
              "      <th>Open</th>\n",
              "      <th>High</th>\n",
              "      <th>Low</th>\n",
              "      <th>Close</th>\n",
              "      <th>Adj Close</th>\n",
              "      <th>Volume</th>\n",
              "    </tr>\n",
              "  </thead>\n",
              "  <tbody>\n",
              "    <tr>\n",
              "      <th>4765</th>\n",
              "      <td>10/15/2020</td>\n",
              "      <td>1897.300049</td>\n",
              "      <td>1906.300049</td>\n",
              "      <td>1889.599976</td>\n",
              "      <td>1903.199951</td>\n",
              "      <td>1903.199951</td>\n",
              "      <td>254</td>\n",
              "    </tr>\n",
              "    <tr>\n",
              "      <th>4766</th>\n",
              "      <td>10/16/2020</td>\n",
              "      <td>1898.500000</td>\n",
              "      <td>1900.800049</td>\n",
              "      <td>1898.500000</td>\n",
              "      <td>1900.800049</td>\n",
              "      <td>1900.800049</td>\n",
              "      <td>53</td>\n",
              "    </tr>\n",
              "    <tr>\n",
              "      <th>4767</th>\n",
              "      <td>10/19/2020</td>\n",
              "      <td>1907.300049</td>\n",
              "      <td>1907.800049</td>\n",
              "      <td>1899.500000</td>\n",
              "      <td>1906.400024</td>\n",
              "      <td>1906.400024</td>\n",
              "      <td>43</td>\n",
              "    </tr>\n",
              "    <tr>\n",
              "      <th>4768</th>\n",
              "      <td>10/20/2020</td>\n",
              "      <td>1901.300049</td>\n",
              "      <td>1910.400024</td>\n",
              "      <td>1896.099976</td>\n",
              "      <td>1910.400024</td>\n",
              "      <td>1910.400024</td>\n",
              "      <td>329</td>\n",
              "    </tr>\n",
              "    <tr>\n",
              "      <th>4769</th>\n",
              "      <td>10/21/2020</td>\n",
              "      <td>1913.599976</td>\n",
              "      <td>1927.300049</td>\n",
              "      <td>1913.599976</td>\n",
              "      <td>1924.599976</td>\n",
              "      <td>1924.599976</td>\n",
              "      <td>329</td>\n",
              "    </tr>\n",
              "  </tbody>\n",
              "</table>\n",
              "</div>"
            ],
            "text/plain": [
              "            Date         Open         High  ...        Close    Adj Close  Volume\n",
              "4765  10/15/2020  1897.300049  1906.300049  ...  1903.199951  1903.199951     254\n",
              "4766  10/16/2020  1898.500000  1900.800049  ...  1900.800049  1900.800049      53\n",
              "4767  10/19/2020  1907.300049  1907.800049  ...  1906.400024  1906.400024      43\n",
              "4768  10/20/2020  1901.300049  1910.400024  ...  1910.400024  1910.400024     329\n",
              "4769  10/21/2020  1913.599976  1927.300049  ...  1924.599976  1924.599976     329\n",
              "\n",
              "[5 rows x 7 columns]"
            ]
          },
          "metadata": {
            "tags": []
          },
          "execution_count": 5
        }
      ]
    },
    {
      "cell_type": "code",
      "metadata": {
        "id": "8mSEzbwOQyuL",
        "colab": {
          "base_uri": "https://localhost:8080/",
          "height": 260
        },
        "outputId": "5e662dfb-b709-43d6-97f5-cc5fbec99d91"
      },
      "source": [
        "data.info()"
      ],
      "execution_count": null,
      "outputs": [
        {
          "output_type": "stream",
          "text": [
            "<class 'pandas.core.frame.DataFrame'>\n",
            "RangeIndex: 4770 entries, 0 to 4769\n",
            "Data columns (total 7 columns):\n",
            " #   Column     Non-Null Count  Dtype  \n",
            "---  ------     --------------  -----  \n",
            " 0   Date       4770 non-null   object \n",
            " 1   Open       4770 non-null   float64\n",
            " 2   High       4770 non-null   float64\n",
            " 3   Low        4770 non-null   float64\n",
            " 4   Close      4770 non-null   float64\n",
            " 5   Adj Close  4770 non-null   float64\n",
            " 6   Volume     4770 non-null   int64  \n",
            "dtypes: float64(5), int64(1), object(1)\n",
            "memory usage: 261.0+ KB\n"
          ],
          "name": "stdout"
        }
      ]
    },
    {
      "cell_type": "code",
      "metadata": {
        "id": "53ypwlVRd8EH"
      },
      "source": [
        "data= pd.DataFrame(data) \n",
        "  \n",
        "# Remove two columns name is 'C' and 'D' \n",
        "data = data.drop(['Open', 'Low','Close','Adj Close','Volume'], axis = 1) "
      ],
      "execution_count": null,
      "outputs": []
    },
    {
      "cell_type": "code",
      "metadata": {
        "id": "6ObMjQLEQyri",
        "colab": {
          "base_uri": "https://localhost:8080/",
          "height": 415
        },
        "outputId": "9c404a9a-0e2a-495b-990c-806bfc55a26f"
      },
      "source": [
        "data = pd.DataFrame(data)\n",
        "data"
      ],
      "execution_count": null,
      "outputs": [
        {
          "output_type": "execute_result",
          "data": {
            "text/html": [
              "<div>\n",
              "<style scoped>\n",
              "    .dataframe tbody tr th:only-of-type {\n",
              "        vertical-align: middle;\n",
              "    }\n",
              "\n",
              "    .dataframe tbody tr th {\n",
              "        vertical-align: top;\n",
              "    }\n",
              "\n",
              "    .dataframe thead th {\n",
              "        text-align: right;\n",
              "    }\n",
              "</style>\n",
              "<table border=\"1\" class=\"dataframe\">\n",
              "  <thead>\n",
              "    <tr style=\"text-align: right;\">\n",
              "      <th></th>\n",
              "      <th>Date</th>\n",
              "      <th>High</th>\n",
              "    </tr>\n",
              "  </thead>\n",
              "  <tbody>\n",
              "    <tr>\n",
              "      <th>0</th>\n",
              "      <td>10/22/2001</td>\n",
              "      <td>275.500000</td>\n",
              "    </tr>\n",
              "    <tr>\n",
              "      <th>1</th>\n",
              "      <td>10/23/2001</td>\n",
              "      <td>277.000000</td>\n",
              "    </tr>\n",
              "    <tr>\n",
              "      <th>2</th>\n",
              "      <td>10/24/2001</td>\n",
              "      <td>275.899994</td>\n",
              "    </tr>\n",
              "    <tr>\n",
              "      <th>3</th>\n",
              "      <td>10/25/2001</td>\n",
              "      <td>277.799988</td>\n",
              "    </tr>\n",
              "    <tr>\n",
              "      <th>4</th>\n",
              "      <td>10/26/2001</td>\n",
              "      <td>277.899994</td>\n",
              "    </tr>\n",
              "    <tr>\n",
              "      <th>...</th>\n",
              "      <td>...</td>\n",
              "      <td>...</td>\n",
              "    </tr>\n",
              "    <tr>\n",
              "      <th>4765</th>\n",
              "      <td>10/15/2020</td>\n",
              "      <td>1906.300049</td>\n",
              "    </tr>\n",
              "    <tr>\n",
              "      <th>4766</th>\n",
              "      <td>10/16/2020</td>\n",
              "      <td>1900.800049</td>\n",
              "    </tr>\n",
              "    <tr>\n",
              "      <th>4767</th>\n",
              "      <td>10/19/2020</td>\n",
              "      <td>1907.800049</td>\n",
              "    </tr>\n",
              "    <tr>\n",
              "      <th>4768</th>\n",
              "      <td>10/20/2020</td>\n",
              "      <td>1910.400024</td>\n",
              "    </tr>\n",
              "    <tr>\n",
              "      <th>4769</th>\n",
              "      <td>10/21/2020</td>\n",
              "      <td>1927.300049</td>\n",
              "    </tr>\n",
              "  </tbody>\n",
              "</table>\n",
              "<p>4770 rows × 2 columns</p>\n",
              "</div>"
            ],
            "text/plain": [
              "            Date         High\n",
              "0     10/22/2001   275.500000\n",
              "1     10/23/2001   277.000000\n",
              "2     10/24/2001   275.899994\n",
              "3     10/25/2001   277.799988\n",
              "4     10/26/2001   277.899994\n",
              "...          ...          ...\n",
              "4765  10/15/2020  1906.300049\n",
              "4766  10/16/2020  1900.800049\n",
              "4767  10/19/2020  1907.800049\n",
              "4768  10/20/2020  1910.400024\n",
              "4769  10/21/2020  1927.300049\n",
              "\n",
              "[4770 rows x 2 columns]"
            ]
          },
          "metadata": {
            "tags": []
          },
          "execution_count": 8
        }
      ]
    },
    {
      "cell_type": "code",
      "metadata": {
        "id": "Oxmf24Zxetuv",
        "colab": {
          "base_uri": "https://localhost:8080/",
          "height": 35
        },
        "outputId": "c98f2a35-f09b-4577-8619-39ed4f31dd27"
      },
      "source": [
        "data.shape"
      ],
      "execution_count": null,
      "outputs": [
        {
          "output_type": "execute_result",
          "data": {
            "text/plain": [
              "(4770, 2)"
            ]
          },
          "metadata": {
            "tags": []
          },
          "execution_count": 9
        }
      ]
    },
    {
      "cell_type": "code",
      "metadata": {
        "id": "ZFtmh16qQycM",
        "colab": {
          "base_uri": "https://localhost:8080/",
          "height": 173
        },
        "outputId": "977ff820-62ee-4f3c-8a7d-9d55a0ed7633"
      },
      "source": [
        "import datetime\n",
        "data.Date = data.Date.apply(lambda x:datetime.datetime.strptime(x, \"%m/%d/%Y\"))\n",
        "data['Date']=data['Date'].map(datetime.datetime.toordinal)\n",
        "# strdates = data.append(str(datetime.date()))\n",
        "data.info()\n",
        "# data.to_csv('data.csv')"
      ],
      "execution_count": null,
      "outputs": [
        {
          "output_type": "stream",
          "text": [
            "<class 'pandas.core.frame.DataFrame'>\n",
            "RangeIndex: 4770 entries, 0 to 4769\n",
            "Data columns (total 2 columns):\n",
            " #   Column  Non-Null Count  Dtype  \n",
            "---  ------  --------------  -----  \n",
            " 0   Date    4770 non-null   int64  \n",
            " 1   High    4770 non-null   float64\n",
            "dtypes: float64(1), int64(1)\n",
            "memory usage: 74.7 KB\n"
          ],
          "name": "stdout"
        }
      ]
    },
    {
      "cell_type": "markdown",
      "metadata": {
        "id": "6jojWihyUVNH"
      },
      "source": [
        "# Simple Linear Regression"
      ]
    },
    {
      "cell_type": "code",
      "metadata": {
        "id": "Bf0p4hI6QnpT",
        "colab": {
          "base_uri": "https://localhost:8080/",
          "height": 545
        },
        "outputId": "6d9fa0e7-065e-4bfe-fb31-91fc8e1d80b4"
      },
      "source": [
        "#reshape data x dan y dari bentuk\n",
        "x = data.Date.values.reshape(-1,1)\n",
        "xx = data['Date'].map(datetime.datetime.fromordinal)\n",
        "\n",
        "y = data.High.values.reshape(-1,1)\n",
        "\n",
        "#perbandingan data train dan testing 90%:10%\n",
        "\n",
        "#ambil nilai x dari urutan pertama hingga 500 terakhir \n",
        "x_train = x[:-500]\n",
        "#ambil nilai y dari urutan pertama hingga 500 terakhir \n",
        "y_train = y[:-500]\n",
        "\n",
        "\n",
        "#ambil 954 data terakhir dari x\n",
        "x_test = x[-500:]\n",
        "#ambil 954 data terakhir dari y\n",
        "y_test = y[-500:]\n",
        "\n",
        "smpReg = linear_model.LinearRegression()\n",
        "\n",
        "\n",
        "#train model\n",
        "smpReg.fit(x_train, y_train)\n",
        "\n",
        "#test model\n",
        "predict = smpReg.predict(x_test)\n",
        "\n",
        "#menghitung RMSE model\n",
        "RMSE = np.sqrt(np.mean(pow(predict - y_test, 2)))\n",
        "\n",
        "#plot data dan model\n",
        "figure = plt.figure(1)\n",
        "figure.set_size_inches(18.5, 10.5)\n",
        "plt.plot(x_train, y_train)\n",
        "plt.plot(xx, smpReg.predict(x))\n",
        "plt.xlabel('Date')\n",
        "plt.ylabel('Harga')\n",
        "plt.show()\n",
        " "
      ],
      "execution_count": null,
      "outputs": [
        {
          "output_type": "display_data",
          "data": {
            "image/png": "[encoded data removed]",
            "text/plain": [
              "<Figure size 1332x756 with 1 Axes>"
            ]
          },
          "metadata": {
            "tags": [],
            "needs_background": "light"
          }
        }
      ]
    },
    {
      "cell_type": "code",
      "metadata": {
        "id": "XnGXG5RSddv8"
      },
      "source": [
        "prediksi = pd.DataFrame(predict)"
      ],
      "execution_count": null,
      "outputs": []
    },
    {
      "cell_type": "code",
      "metadata": {
        "id": "nIATZE7Rgwrx",
        "colab": {
          "base_uri": "https://localhost:8080/",
          "height": 415
        },
        "outputId": "833054b9-f6a0-4f33-f4c9-8fcacec25edd"
      },
      "source": [
        "prediksi.rename(columns={\"index\":\"ID\", 0:\"Harga\"})\n",
        "# submission = submission.iloc[:214201,:]"
      ],
      "execution_count": null,
      "outputs": [
        {
          "output_type": "execute_result",
          "data": {
            "text/html": [
              "<div>\n",
              "<style scoped>\n",
              "    .dataframe tbody tr th:only-of-type {\n",
              "        vertical-align: middle;\n",
              "    }\n",
              "\n",
              "    .dataframe tbody tr th {\n",
              "        vertical-align: top;\n",
              "    }\n",
              "\n",
              "    .dataframe thead th {\n",
              "        text-align: right;\n",
              "    }\n",
              "</style>\n",
              "<table border=\"1\" class=\"dataframe\">\n",
              "  <thead>\n",
              "    <tr style=\"text-align: right;\">\n",
              "      <th></th>\n",
              "      <th>Harga</th>\n",
              "    </tr>\n",
              "  </thead>\n",
              "  <tbody>\n",
              "    <tr>\n",
              "      <th>0</th>\n",
              "      <td>1609.655100</td>\n",
              "    </tr>\n",
              "    <tr>\n",
              "      <th>1</th>\n",
              "      <td>1609.855993</td>\n",
              "    </tr>\n",
              "    <tr>\n",
              "      <th>2</th>\n",
              "      <td>1610.458673</td>\n",
              "    </tr>\n",
              "    <tr>\n",
              "      <th>3</th>\n",
              "      <td>1610.659566</td>\n",
              "    </tr>\n",
              "    <tr>\n",
              "      <th>4</th>\n",
              "      <td>1610.860459</td>\n",
              "    </tr>\n",
              "    <tr>\n",
              "      <th>...</th>\n",
              "      <td>...</td>\n",
              "    </tr>\n",
              "    <tr>\n",
              "      <th>495</th>\n",
              "      <td>1746.061594</td>\n",
              "    </tr>\n",
              "    <tr>\n",
              "      <th>496</th>\n",
              "      <td>1746.262487</td>\n",
              "    </tr>\n",
              "    <tr>\n",
              "      <th>497</th>\n",
              "      <td>1746.865167</td>\n",
              "    </tr>\n",
              "    <tr>\n",
              "      <th>498</th>\n",
              "      <td>1747.066060</td>\n",
              "    </tr>\n",
              "    <tr>\n",
              "      <th>499</th>\n",
              "      <td>1747.266953</td>\n",
              "    </tr>\n",
              "  </tbody>\n",
              "</table>\n",
              "<p>500 rows × 1 columns</p>\n",
              "</div>"
            ],
            "text/plain": [
              "           Harga\n",
              "0    1609.655100\n",
              "1    1609.855993\n",
              "2    1610.458673\n",
              "3    1610.659566\n",
              "4    1610.860459\n",
              "..           ...\n",
              "495  1746.061594\n",
              "496  1746.262487\n",
              "497  1746.865167\n",
              "498  1747.066060\n",
              "499  1747.266953\n",
              "\n",
              "[500 rows x 1 columns]"
            ]
          },
          "metadata": {
            "tags": []
          },
          "execution_count": 36
        }
      ]
    },
    {
      "cell_type": "code",
      "metadata": {
        "id": "BOCznKB0hJb5",
        "colab": {
          "base_uri": "https://localhost:8080/",
          "height": 35
        },
        "outputId": "e0d68608-4ae4-413c-c420-42afc8915a39"
      },
      "source": [
        "print(RMSE)"
      ],
      "execution_count": null,
      "outputs": [
        {
          "output_type": "stream",
          "text": [
            "219.01414911969883\n"
          ],
          "name": "stdout"
        }
      ]
    },
    {
      "cell_type": "code",
      "metadata": {
        "id": "ak5TikMXhbHe"
      },
      "source": [
        ""
      ],
      "execution_count": null,
      "outputs": []
    }
  ]
}